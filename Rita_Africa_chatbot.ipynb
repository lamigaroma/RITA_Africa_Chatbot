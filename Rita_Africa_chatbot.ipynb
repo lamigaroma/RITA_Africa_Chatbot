{
 "cells": [
  {
   "cell_type": "markdown",
   "id": "8ed6f629-fcd6-4515-abd9-8c4f3f20d149",
   "metadata": {},
   "source": [
    "RITA Africa AI-powered Customer Support Chatbot utilizing Python. <br/>\n",
    "<b><u>Step 1:</u></b> Project Structure created : RITA_Africa_Chatbot"
   ]
  },
  {
   "cell_type": "markdown",
   "id": "d7223bcf-f820-4c53-9b5a-8c14aa7d867c",
   "metadata": {},
   "source": [
    "<hr>\n",
    "This chatbot will assist customers by responding to common inquiries such as \n",
    "<ul> \n",
    "<li>business hours </li> \n",
    "<li>contact information </li>\n",
    "<li>pricing </li>\n",
    "<li>available services </li>\n",
    "<ul>"
   ]
  },
  {
   "cell_type": "markdown",
   "id": "5ab71859-6734-4690-98a2-7f3e81ed8dc3",
   "metadata": {},
   "source": [
    "<hr>\n",
    "<b><u>Step 2:</u></b> Installing Required Libraries for the program"
   ]
  },
  {
   "cell_type": "code",
   "execution_count": 3,
   "id": "30f044bb-4687-4a35-97e1-fd2ca8bb6db8",
   "metadata": {},
   "outputs": [
    {
     "name": "stdout",
     "output_type": "stream",
     "text": [
      "Defaulting to user installation because normal site-packages is not writeable\n",
      "Requirement already satisfied: fuzzywuzzy in c:\\users\\dup\\appdata\\roaming\\python\\python312\\site-packages (0.18.0)\n",
      "Requirement already satisfied: python-Levenshtein in c:\\users\\dup\\appdata\\roaming\\python\\python312\\site-packages (0.26.1)\n",
      "Requirement already satisfied: Levenshtein==0.26.1 in c:\\users\\dup\\appdata\\roaming\\python\\python312\\site-packages (from python-Levenshtein) (0.26.1)\n",
      "Requirement already satisfied: rapidfuzz<4.0.0,>=3.9.0 in c:\\users\\dup\\appdata\\roaming\\python\\python312\\site-packages (from Levenshtein==0.26.1->python-Levenshtein) (3.12.1)\n"
     ]
    }
   ],
   "source": [
    "# Install required libraries\n",
    "!pip install fuzzywuzzy python-Levenshtein"
   ]
  },
  {
   "cell_type": "markdown",
   "id": "3da46acc-d4ee-4059-b6c1-b0904aaf2bcd",
   "metadata": {},
   "source": [
    "<hr>\n",
    "The fuzzywuzzy, a package that enables fuzzy string matching, helping our chatbot identify user\n",
    "inputs even if they contain minor spelling differences.<br/>\n",
    "<b><u>Step 3:</u></b> Import process from the fuzzywuzzy."
   ]
  },
  {
   "cell_type": "code",
   "execution_count": 5,
   "id": "b31722c7-ef91-4550-8c91-edeff130d079",
   "metadata": {},
   "outputs": [],
   "source": [
    "from fuzzywuzzy import process"
   ]
  },
  {
   "cell_type": "markdown",
   "id": "0413f253-1baf-46d6-bacb-ffea4745452a",
   "metadata": {},
   "source": [
    "<hr/>\n",
    "<b><u>Step 4:</u></b> Defining Chatbot Responses\n",
    "Below I am defining a dictionary containing pre-set responses to common customer queries to create an interactive chatbot.\n",
    "<ul><li>Frequently Asked Questions(FAQ) from <a href=\"https://www.ritaafrica.com/faqs/\" target=\"_blank\">ritaafrica.com</a> used to create the dictionary</li></ul>"
   ]
  },
  {
   "cell_type": "code",
   "execution_count": 7,
   "id": "e6d167ae-5452-4d93-ac6b-83a7d15b6c07",
   "metadata": {},
   "outputs": [],
   "source": [
    "responses = {\n",
    "    \"hello\": \"Hi there! Welcome to RITA Africa chatbot. How can I assist you today? \",\n",
    "    \"hi\": \"Hi there! Welcome to RITA Africa chatbot. How can I assist you today? \",\n",
    "    \"hey\": \"Hi there! Welcome to RITA Africa chatbot. How can I assist you today? \",\n",
    "    \"bye\" : \"It was nice chatting with you, have a nice day! \",\n",
    "    \"courses\": \"Courses offered We offer are Data Analytics, Data Science & AI / ML, Cybersecurity, DevOps, Software Engineering, Fullstack Web Development \",\n",
    "    \"What is RITA Africa?\": \"RISE IN TECH AFRICA, popularly known as RITA Africa, is a leading provider of online tech training and certification programs designed to empower individuals with the skills they need to succeed in the digital economy\",\n",
    "    \"How do I apply for a program at RITA Africa?\":\"Simply visit our website and join the next Python Developer Bootcamp organized by InfoSorse. Upon successful completion of the bootcamp, use your certificate to apply for any RITA Africa program\",\n",
    "    \"Can I apply if I'm not based in Africa?\":\"Given the stated requirement that applicants must be both African citizens and residents in Africa, if you are not currently residing in Africa, you would not meet the eligibility criteria for the application, even if you hold African citizenship\",\n",
    "    \"What types of certifications do you offer?\":\"RITA Africa offers industry-recognized certifications in various tech-related fields, including data analytics, cloud computing, software engineering, cybersecurity, and more. Our certifications are designed to equip you with the skills and credentials you need to succeed in your chosen career path.\",\n",
    "    \"How long are the programs?\":\"Program durations vary depending on the specific course. Some programs may be completed in 9 months, while others may span 12 months and below. Visit our website or check the program page for information on the duration of your chosen program\",\n",
    "    \"business hours\": \"Our business hours are from 9 AM to 6 PM, Monday to Friday.\",\n",
    "    \"contact\": \"You can contact us at Email: info@ritaafrica.com or support@ritaafrica.com and Phone Number: +233 (302) 456 662\",\n",
    "    \"pricing\": \"Please visit our website at ritaafrica.com for detailed pricing information.\",\n",
    "    \"services\": \"We offer various tech training programs with different specializations.\",\n",
    "    \"How to work with you\":\"You can donate $50, $100, $250, $500, $1000 and above\"\n",
    "}"
   ]
  },
  {
   "cell_type": "markdown",
   "id": "7ac3b384-4f28-4e50-bf44-7f4c35e89879",
   "metadata": {},
   "source": [
    "<hr/>\n",
    "<b><u>Step 5:</u></b> Defining Functions\n",
    "<ol><li><b>Saving unknown user queries to a txt file</b></li></ol>\n",
    "This will use to improve the chatbot’s accuracy over time, will implement a logging mechanism to save unknown\n",
    "user queries for future training. When it encounters an input it does not recognize, it will store the\n",
    "query in a text file (unknown_queries.txt)"
   ]
  },
  {
   "cell_type": "code",
   "execution_count": 9,
   "id": "49d38aad-ffb3-49fa-a667-3a8d6b21e1ce",
   "metadata": {},
   "outputs": [],
   "source": [
    "def log_unknown_query(query):\n",
    "    with open(\"unknown_queries.txt\", \"a\") as file:\n",
    "        file.write(query + \"\\n\")"
   ]
  },
  {
   "cell_type": "markdown",
   "id": "24f6ef66-9b51-4ef1-85c2-d8550939e85c",
   "metadata": {},
   "source": [
    "<hr/>\n",
    "<ol start=\"2\"><li><b> Implement Fuzzy Matching for Better User Experience</b></li></ol>\n",
    "Instead of requiring exact matches, this chatbot will use fuzzy logic to find the closest matching response and this ensures that the chatbot understands variations of a question."
   ]
  },
  {
   "cell_type": "code",
   "execution_count": 11,
   "id": "b1c01048-fa08-4701-be6e-e7ef782297fb",
   "metadata": {},
   "outputs": [],
   "source": [
    "def get_best_match(user_input):\n",
    "    best_match, score = process.extractOne(user_input, responses.keys())\n",
    "    return best_match if score > 80 else None"
   ]
  },
  {
   "cell_type": "markdown",
   "id": "818d31f5-6c59-4fe5-8358-8e1485f4ab44",
   "metadata": {},
   "source": [
    "<hr/>\n",
    "<ol start=\"3\"><li><b> Defining the Bot Function</b></li></ol>"
   ]
  },
  {
   "cell_type": "code",
   "execution_count": 13,
   "id": "5d8e61b9-8f95-4a23-9c44-c7dd0df48e94",
   "metadata": {},
   "outputs": [],
   "source": [
    "def chatbot():\n",
    "    print(\"Welcome to the Customer Support Chatbot!\")\n",
    "    print(\"Type 'exit' or 'close' or 'done' to end the chat.\")\n",
    "\n",
    "    while True:\n",
    "        user_input = input(\"You: \").lower()\n",
    "        \n",
    "        if user_input == \"exit\" or user_input == \"close\" or user_input == \"done\":\n",
    "            print(\"Bot: Thank you for using our chatbot. Goodbye!\")\n",
    "            break\n",
    "            \n",
    "        best_match = get_best_match(user_input)\n",
    "        if best_match:\n",
    "            print(\"Bot:\", responses[best_match])\n",
    "        else:\n",
    "            print(\"Bot: Sorry, I don't understand that. Can you try rephrasing?\")\n",
    "            log_unknown_query(user_input)\n",
    "            print(\"Your question has been noted, and I'll learn the answer for next time. Thanks for helping me improve! 😊\")"
   ]
  },
  {
   "cell_type": "markdown",
   "id": "59eb22cb-2f0f-4770-9742-d91180955f00",
   "metadata": {},
   "source": [
    "<hr/>\n",
    "<b><p style=\"font-size: 20px;\">Calling the function in order to execute the instructions provided above</p></b>"
   ]
  },
  {
   "cell_type": "code",
   "execution_count": 17,
   "id": "d6cd3c8b-920c-49c6-a9bd-56ec0930d765",
   "metadata": {},
   "outputs": [
    {
     "name": "stdout",
     "output_type": "stream",
     "text": [
      "Welcome to the Customer Support Chatbot!\n",
      "Type 'exit' or 'close' or 'done' to end the chat.\n"
     ]
    },
    {
     "name": "stdin",
     "output_type": "stream",
     "text": [
      "You:  Hello\n"
     ]
    },
    {
     "name": "stdout",
     "output_type": "stream",
     "text": [
      "Bot: Hi there! Welcome to RITA Africa chatbot. How can I assist you today? \n"
     ]
    },
    {
     "name": "stdin",
     "output_type": "stream",
     "text": [
      "You:  Hi\n"
     ]
    },
    {
     "name": "stdout",
     "output_type": "stream",
     "text": [
      "Bot: Hi there! Welcome to RITA Africa chatbot. How can I assist you today? \n"
     ]
    },
    {
     "name": "stdin",
     "output_type": "stream",
     "text": [
      "You:  hey\n"
     ]
    },
    {
     "name": "stdout",
     "output_type": "stream",
     "text": [
      "Bot: Hi there! Welcome to RITA Africa chatbot. How can I assist you today? \n"
     ]
    },
    {
     "name": "stdin",
     "output_type": "stream",
     "text": [
      "You:  Good Afternoon?\n"
     ]
    },
    {
     "name": "stdout",
     "output_type": "stream",
     "text": [
      "Bot: Sorry, I don't understand that. Can you try rephrasing?\n",
      "Your question has been noted, and I'll learn the answer for next time. Thanks for helping me improve! 😊\n"
     ]
    },
    {
     "name": "stdin",
     "output_type": "stream",
     "text": [
      "You:  What is RITA Africa?\n"
     ]
    },
    {
     "name": "stdout",
     "output_type": "stream",
     "text": [
      "Bot: RISE IN TECH AFRICA, popularly known as RITA Africa, is a leading provider of online tech training and certification programs designed to empower individuals with the skills they need to succeed in the digital economy\n"
     ]
    },
    {
     "name": "stdin",
     "output_type": "stream",
     "text": [
      "You:  What courses offered at Rita pleas\n"
     ]
    },
    {
     "name": "stdout",
     "output_type": "stream",
     "text": [
      "Bot: Courses offered We offer are Data Analytics, Data Science & AI / ML, Cybersecurity, DevOps, Software Engineering, Fullstack Web Development \n"
     ]
    },
    {
     "name": "stdin",
     "output_type": "stream",
     "text": [
      "You:  Can I get detail outline for Data Science and AI/ML\n"
     ]
    },
    {
     "name": "stdout",
     "output_type": "stream",
     "text": [
      "Bot: Sorry, I don't understand that. Can you try rephrasing?\n",
      "Your question has been noted, and I'll learn the answer for next time. Thanks for helping me improve! 😊\n"
     ]
    },
    {
     "name": "stdin",
     "output_type": "stream",
     "text": [
      "You:  Can I offer the price\n"
     ]
    },
    {
     "name": "stdout",
     "output_type": "stream",
     "text": [
      "Bot: Simply visit our website and join the next Python Developer Bootcamp organized by InfoSorse. Upon successful completion of the bootcamp, use your certificate to apply for any RITA Africa program\n"
     ]
    },
    {
     "name": "stdin",
     "output_type": "stream",
     "text": [
      "You:  How can I work with Rita africa\n"
     ]
    },
    {
     "name": "stdout",
     "output_type": "stream",
     "text": [
      "Bot: RISE IN TECH AFRICA, popularly known as RITA Africa, is a leading provider of online tech training and certification programs designed to empower individuals with the skills they need to succeed in the digital economy\n"
     ]
    },
    {
     "name": "stdin",
     "output_type": "stream",
     "text": [
      "You:  how to work with you\n"
     ]
    },
    {
     "name": "stdout",
     "output_type": "stream",
     "text": [
      "Bot: You can donate $50, $100, $250, $500, $1000 and above\n"
     ]
    },
    {
     "name": "stdin",
     "output_type": "stream",
     "text": [
      "You:  working hours\n"
     ]
    },
    {
     "name": "stdout",
     "output_type": "stream",
     "text": [
      "Bot: Sorry, I don't understand that. Can you try rephrasing?\n",
      "Your question has been noted, and I'll learn the answer for next time. Thanks for helping me improve! 😊\n"
     ]
    },
    {
     "name": "stdin",
     "output_type": "stream",
     "text": [
      "You:  business hours\n"
     ]
    },
    {
     "name": "stdout",
     "output_type": "stream",
     "text": [
      "Bot: Our business hours are from 9 AM to 6 PM, Monday to Friday.\n"
     ]
    },
    {
     "name": "stdin",
     "output_type": "stream",
     "text": [
      "You:  bye\n"
     ]
    },
    {
     "name": "stdout",
     "output_type": "stream",
     "text": [
      "Bot: It was nice chatting with you, have a nice day! \n"
     ]
    },
    {
     "name": "stdin",
     "output_type": "stream",
     "text": [
      "You:  done\n"
     ]
    },
    {
     "name": "stdout",
     "output_type": "stream",
     "text": [
      "Bot: Thank you for using our chatbot. Goodbye!\n"
     ]
    }
   ],
   "source": [
    "chatbot()"
   ]
  },
  {
   "cell_type": "code",
   "execution_count": null,
   "id": "5add430a-7e6c-49c5-acd7-afe377ced38c",
   "metadata": {},
   "outputs": [],
   "source": []
  }
 ],
 "metadata": {
  "kernelspec": {
   "display_name": "Python [conda env:base] *",
   "language": "python",
   "name": "conda-base-py"
  },
  "language_info": {
   "codemirror_mode": {
    "name": "ipython",
    "version": 3
   },
   "file_extension": ".py",
   "mimetype": "text/x-python",
   "name": "python",
   "nbconvert_exporter": "python",
   "pygments_lexer": "ipython3",
   "version": "3.12.7"
  }
 },
 "nbformat": 4,
 "nbformat_minor": 5
}
